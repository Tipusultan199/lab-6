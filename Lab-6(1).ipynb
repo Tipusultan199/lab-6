{
 "cells": [
  {
   "cell_type": "code",
   "execution_count": 1,
   "id": "07d05221-53b7-45e3-8416-51e696780456",
   "metadata": {},
   "outputs": [
    {
     "name": "stdout",
     "output_type": "stream",
     "text": [
      "Final Rotation Matrix R:\n",
      "[[ 1.11022302e-16 -1.00000000e+00  0.00000000e+00]\n",
      " [ 1.00000000e+00  1.11022302e-16  0.00000000e+00]\n",
      " [ 0.00000000e+00  0.00000000e+00  1.00000000e+00]]\n"
     ]
    }
   ],
   "source": [
    "import numpy as np\n",
    "\n",
    "# Angles in radians\n",
    "theta_1 = np.pi / 2\n",
    "theta_2 = -np.pi / 4\n",
    "theta_3 = 0\n",
    "theta_4 = np.pi / 4\n",
    "\n",
    "# Skew-symmetric matrices\n",
    "z_hat_bracket = np.array([[0, -1, 0], [1, 0, 0], [0, 0, 0]])\n",
    "y_hat_bracket = np.array([[0, 0, 1], [0, 0, 0], [-1, 0, 0]])\n",
    "\n",
    "# Rodrigues' formula to compute the exponentials\n",
    "def rodrigues_formula(hat_matrix, theta):\n",
    "    return np.eye(3) + np.sin(theta) * hat_matrix + (1 - np.cos(theta)) * np.dot(hat_matrix, hat_matrix)\n",
    "\n",
    "# Calculate the rotation matrices\n",
    "e_z_hat_bracket_theta_1 = rodrigues_formula(z_hat_bracket, theta_1)\n",
    "e_y_hat_bracket_theta_2 = rodrigues_formula(y_hat_bracket, theta_2)\n",
    "e_y_hat_bracket_theta_3 = rodrigues_formula(y_hat_bracket, theta_3)\n",
    "e_y_hat_bracket_theta_4 = rodrigues_formula(y_hat_bracket, theta_4)\n",
    "\n",
    "# Calculate the final rotation matrix (product of exponentials)\n",
    "R = np.dot(np.dot(np.dot(e_z_hat_bracket_theta_1, e_y_hat_bracket_theta_2), e_y_hat_bracket_theta_3), e_y_hat_bracket_theta_4)\n",
    "\n",
    "# Print the final rotation matrix\n",
    "print(\"Final Rotation Matrix R:\")\n",
    "print(R)\n"
   ]
  },
  {
   "cell_type": "code",
   "execution_count": null,
   "id": "027830c3-cb15-4edc-b701-e399bcee00f6",
   "metadata": {},
   "outputs": [],
   "source": []
  }
 ],
 "metadata": {
  "kernelspec": {
   "display_name": "Python 3 (ipykernel)",
   "language": "python",
   "name": "python3"
  },
  "language_info": {
   "codemirror_mode": {
    "name": "ipython",
    "version": 3
   },
   "file_extension": ".py",
   "mimetype": "text/x-python",
   "name": "python",
   "nbconvert_exporter": "python",
   "pygments_lexer": "ipython3",
   "version": "3.10.12"
  }
 },
 "nbformat": 4,
 "nbformat_minor": 5
}
